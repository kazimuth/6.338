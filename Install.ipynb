{
 "cells": [
  {
   "cell_type": "code",
   "execution_count": 8,
   "metadata": {},
   "outputs": [
    {
     "name": "stdout",
     "output_type": "stream",
     "text": [
      "\u001b[32m\u001b[1m Resolving\u001b[22m\u001b[39m package versions...\n",
      "\u001b[32m\u001b[1m Installed\u001b[22m\u001b[39m ProgressMeter ─ v1.2.0\n",
      "\u001b[32m\u001b[1m  Updating\u001b[22m\u001b[39m `/data/scratch/jhgilles/.julia/environments/v1.0/Project.toml`\n",
      " \u001b[90m [92933f4c]\u001b[39m\u001b[92m + ProgressMeter v1.2.0\u001b[39m\n",
      "\u001b[32m\u001b[1m  Updating\u001b[22m\u001b[39m `/data/scratch/jhgilles/.julia/environments/v1.0/Manifest.toml`\n",
      " \u001b[90m [92933f4c]\u001b[39m\u001b[92m + ProgressMeter v1.2.0\u001b[39m\n"
     ]
    }
   ],
   "source": [
    "]add CUDAdrv CUDAnative CuArrays IJulia Flux Plots Zygote NNlib BenchmarkTools BSON Plots Images Colors ImageMagick StaticArrays ProgressMeter"
   ]
  },
  {
   "cell_type": "code",
   "execution_count": 3,
   "metadata": {},
   "outputs": [
    {
     "name": "stdout",
     "output_type": "stream",
     "text": [
      "\u001b[32m\u001b[1m   Testing\u001b[22m\u001b[39m CuArrays\n",
      "\u001b[32m\u001b[1m Resolving\u001b[22m\u001b[39m package versions...\n",
      "\u001b[32m\u001b[1m    Status\u001b[22m\u001b[39m `/tmp/tmpwmp8p2/Manifest.toml`\n",
      " \u001b[90m [621f4979]\u001b[39m\u001b[37m AbstractFFTs v0.5.0\u001b[39m\n",
      " \u001b[90m [79e6a3ab]\u001b[39m\u001b[37m Adapt v1.0.0\u001b[39m\n",
      " \u001b[90m [9e28174c]\u001b[39m\u001b[37m BinDeps v1.0.0\u001b[39m\n",
      " \u001b[90m [b99e7846]\u001b[39m\u001b[37m BinaryProvider v0.5.8\u001b[39m\n",
      " \u001b[90m [fa961155]\u001b[39m\u001b[37m CEnum v0.2.0\u001b[39m\n",
      " \u001b[90m [3895d2a7]\u001b[39m\u001b[37m CUDAapi v2.0.0\u001b[39m\n",
      " \u001b[90m [c5f51814]\u001b[39m\u001b[37m CUDAdrv v4.0.4\u001b[39m\n",
      " \u001b[90m [be33ccc6]\u001b[39m\u001b[37m CUDAnative v2.6.0\u001b[39m\n",
      " \u001b[90m [bbf7d656]\u001b[39m\u001b[37m CommonSubexpressions v0.2.0\u001b[39m\n",
      " \u001b[90m [34da2185]\u001b[39m\u001b[37m Compat v2.2.0\u001b[39m\n",
      " \u001b[90m [8f4d0f93]\u001b[39m\u001b[37m Conda v1.3.0\u001b[39m\n",
      " \u001b[90m [3a865a2d]\u001b[39m\u001b[37m CuArrays v1.5.0\u001b[39m\n",
      " \u001b[90m [864edb3b]\u001b[39m\u001b[37m DataStructures v0.17.6\u001b[39m\n",
      " \u001b[90m [163ba53b]\u001b[39m\u001b[37m DiffResults v0.0.4\u001b[39m\n",
      " \u001b[90m [b552c78f]\u001b[39m\u001b[37m DiffRules v0.1.0\u001b[39m\n",
      " \u001b[90m [7a1cc6ca]\u001b[39m\u001b[37m FFTW v1.1.0\u001b[39m\n",
      " \u001b[90m [1a297f60]\u001b[39m\u001b[37m FillArrays v0.8.2\u001b[39m\n",
      " \u001b[90m [f6369f11]\u001b[39m\u001b[37m ForwardDiff v0.10.7\u001b[39m\n",
      " \u001b[90m [0c68f7d7]\u001b[39m\u001b[37m GPUArrays v2.0.1\u001b[39m\n",
      " \u001b[90m [682c06a0]\u001b[39m\u001b[37m JSON v0.21.0\u001b[39m\n",
      " \u001b[90m [929cbde3]\u001b[39m\u001b[37m LLVM v1.3.2\u001b[39m\n",
      " \u001b[90m [1914dd2f]\u001b[39m\u001b[37m MacroTools v0.5.3\u001b[39m\n",
      " \u001b[90m [872c559c]\u001b[39m\u001b[37m NNlib v0.6.0\u001b[39m\n",
      " \u001b[90m [77ba4419]\u001b[39m\u001b[37m NaNMath v0.3.3\u001b[39m\n",
      " \u001b[90m [bac558e1]\u001b[39m\u001b[37m OrderedCollections v1.1.0\u001b[39m\n",
      " \u001b[90m [69de0a69]\u001b[39m\u001b[37m Parsers v0.3.10\u001b[39m\n",
      " \u001b[90m [189a3867]\u001b[39m\u001b[37m Reexport v0.2.0\u001b[39m\n",
      " \u001b[90m [ae029012]\u001b[39m\u001b[37m Requires v0.5.2\u001b[39m\n",
      " \u001b[90m [276daf66]\u001b[39m\u001b[37m SpecialFunctions v0.8.0\u001b[39m\n",
      " \u001b[90m [90137ffa]\u001b[39m\u001b[37m StaticArrays v0.12.1\u001b[39m\n",
      " \u001b[90m [a759f4b9]\u001b[39m\u001b[37m TimerOutputs v0.5.3\u001b[39m\n",
      " \u001b[90m [30578b45]\u001b[39m\u001b[37m URIParser v0.4.0\u001b[39m\n",
      " \u001b[90m [81def892]\u001b[39m\u001b[37m VersionParsing v1.1.3\u001b[39m\n",
      " \u001b[90m [2a0f44e3]\u001b[39m\u001b[37m Base64  [`@stdlib/Base64`]\u001b[39m\n",
      " \u001b[90m [ade2ca70]\u001b[39m\u001b[37m Dates  [`@stdlib/Dates`]\u001b[39m\n",
      " \u001b[90m [8bb1440f]\u001b[39m\u001b[37m DelimitedFiles  [`@stdlib/DelimitedFiles`]\u001b[39m\n",
      " \u001b[90m [8ba89e20]\u001b[39m\u001b[37m Distributed  [`@stdlib/Distributed`]\u001b[39m\n",
      " \u001b[90m [b77e0a4c]\u001b[39m\u001b[37m InteractiveUtils  [`@stdlib/InteractiveUtils`]\u001b[39m\n",
      " \u001b[90m [76f85450]\u001b[39m\u001b[37m LibGit2  [`@stdlib/LibGit2`]\u001b[39m\n",
      " \u001b[90m [8f399da3]\u001b[39m\u001b[37m Libdl  [`@stdlib/Libdl`]\u001b[39m\n",
      " \u001b[90m [37e2e46d]\u001b[39m\u001b[37m LinearAlgebra  [`@stdlib/LinearAlgebra`]\u001b[39m\n",
      " \u001b[90m [56ddb016]\u001b[39m\u001b[37m Logging  [`@stdlib/Logging`]\u001b[39m\n",
      " \u001b[90m [d6f4376e]\u001b[39m\u001b[37m Markdown  [`@stdlib/Markdown`]\u001b[39m\n",
      " \u001b[90m [a63ad114]\u001b[39m\u001b[37m Mmap  [`@stdlib/Mmap`]\u001b[39m\n",
      " \u001b[90m [44cfe95a]\u001b[39m\u001b[37m Pkg  [`@stdlib/Pkg`]\u001b[39m\n",
      " \u001b[90m [de0858da]\u001b[39m\u001b[37m Printf  [`@stdlib/Printf`]\u001b[39m\n",
      " \u001b[90m [3fa0cd96]\u001b[39m\u001b[37m REPL  [`@stdlib/REPL`]\u001b[39m\n",
      " \u001b[90m [9a3f8284]\u001b[39m\u001b[37m Random  [`@stdlib/Random`]\u001b[39m\n",
      " \u001b[90m [ea8e919c]\u001b[39m\u001b[37m SHA  [`@stdlib/SHA`]\u001b[39m\n",
      " \u001b[90m [9e88b42a]\u001b[39m\u001b[37m Serialization  [`@stdlib/Serialization`]\u001b[39m\n",
      " \u001b[90m [1a1011a3]\u001b[39m\u001b[37m SharedArrays  [`@stdlib/SharedArrays`]\u001b[39m\n",
      " \u001b[90m [6462fe0b]\u001b[39m\u001b[37m Sockets  [`@stdlib/Sockets`]\u001b[39m\n",
      " \u001b[90m [2f01184e]\u001b[39m\u001b[37m SparseArrays  [`@stdlib/SparseArrays`]\u001b[39m\n",
      " \u001b[90m [10745b16]\u001b[39m\u001b[37m Statistics  [`@stdlib/Statistics`]\u001b[39m\n",
      " \u001b[90m [8dfed614]\u001b[39m\u001b[37m Test  [`@stdlib/Test`]\u001b[39m\n",
      " \u001b[90m [cf7118a7]\u001b[39m\u001b[37m UUIDs  [`@stdlib/UUIDs`]\u001b[39m\n",
      " \u001b[90m [4ec0a83e]\u001b[39m\u001b[37m Unicode  [`@stdlib/Unicode`]\u001b[39m\n"
     ]
    },
    {
     "name": "stderr",
     "output_type": "stream",
     "text": [
      "[ Info: Building the CUDAnative run-time library for your sm_61 device, this might take a while...\n",
      "┌ Warning: Performing scalar operations on GPU arrays: This is very slow, consider disallowing these operations with `allowscalar(false)`\n",
      "└ @ GPUArrays /data/scratch/jhgilles/.julia/packages/GPUArrays/1wgPO/src/indexing.jl:16\n",
      "┌ Warning: Not testing CUDNN\n",
      "└ @ Main /data/scratch/jhgilles/.julia/packages/CuArrays/ZYCpV/test/dnn.jl:6\n",
      "┌ Warning: Not testing CUTENSOR\n",
      "└ @ Main /data/scratch/jhgilles/.julia/packages/CuArrays/ZYCpV/test/tensor.jl:7\n",
      "[ Info: Testing ForwardDiff integration\n"
     ]
    },
    {
     "name": "stdout",
     "output_type": "stream",
     "text": [
      "Effective GPU memory usage: 3.17% (387.000 MiB/11.910 GiB)\n",
      "CuArrays GPU memory usage: 1.389 MiB\n",
      "BinnedPool usage: 1.389 MiB (16.004 KiB allocated, 1.374 MiB cached)\n",
      "BinnedPool efficiency: 1.13% (16.004 KiB requested, 1.389 MiB allocated)\n",
      " ────────────────────────────────────────────────────────\n",
      "                                           Time          \n",
      "                                   ──────────────────────\n",
      "         Tot / % measured:              2147s / 0.54%    \n",
      "\n",
      " Section                   ncalls     time   %tot     avg\n",
      " ────────────────────────────────────────────────────────\n",
      " pooled alloc               9.88k    11.1s  95.8%  1.12ms\n",
      "   1. try alloc             1.55k    2.14s  18.4%  1.38ms\n",
      "   2. gc (incremental)          6    124ms  1.07%  20.6ms\n",
      "     pooled free                2   49.2μs  0.00%  24.6μs\n",
      "   3. reclaim unused            6    542μs  0.00%  90.4μs\n",
      "     reclaim                    6    321μs  0.00%  53.5μs\n",
      "     scan                       6   45.0μs  0.00%  7.50μs\n",
      "   4. try alloc                 6   6.97ms  0.06%  1.16ms\n",
      "   5. gc (full)                 6    6.77s  58.4%   1.13s\n",
      "     pooled free               10    204μs  0.00%  20.4μs\n",
      "   6. reclaim unused            6   3.97ms  0.03%   662μs\n",
      "     reclaim                    6   3.23ms  0.03%   538μs\n",
      "     scan                       6    370μs  0.00%  61.6μs\n",
      "   7. try alloc                 6    129ms  1.11%  21.5ms\n",
      "   8. reclaim everything        6    374μs  0.00%  62.3μs\n",
      "     reclaim                    6   53.4μs  0.00%  8.89μs\n",
      "     scan                       6   75.1μs  0.00%  12.5μs\n",
      "   9. try alloc                 6   7.50ms  0.06%  1.25ms\n",
      " pooled free                9.86k    380ms  3.27%  38.5μs\n",
      " reclaim                        6    108ms  0.93%  18.0ms\n",
      " scan                           6   71.8μs  0.00%  12.0μs\n",
      " ────────────────────────────────────────────────────────\n",
      " ────────────────────────────────────────\n",
      "                           Time          \n",
      "                   ──────────────────────\n",
      " Tot / % measured:      2147s / 0.11%    \n",
      "\n",
      " Section   ncalls     time   %tot     avg\n",
      " ────────────────────────────────────────\n",
      " alloc      1.57k    2.20s  95.4%  1.40ms\n",
      " free         321    105ms  4.58%   328μs\n",
      " ────────────────────────────────────────\n",
      "Test Summary: | Pass  Total\n",
      "CuArrays      | 4796   4796\n",
      "\u001b[32m\u001b[1m   Testing\u001b[22m\u001b[39m CuArrays tests passed \n"
     ]
    }
   ],
   "source": [
    "]test CuArrays"
   ]
  },
  {
   "cell_type": "code",
   "execution_count": 6,
   "metadata": {},
   "outputs": [
    {
     "data": {
      "text/plain": [
       "4-element Array{String,1}:\n",
       " \"@\"      \n",
       " \"@v#.#\"  \n",
       " \"@stdlib\"\n",
       " \".\"      "
      ]
     },
     "execution_count": 6,
     "metadata": {},
     "output_type": "execute_result"
    }
   ],
   "source": [
    "push!(LOAD_PATH, \".\")"
   ]
  },
  {
   "cell_type": "code",
   "execution_count": 7,
   "metadata": {},
   "outputs": [
    {
     "name": "stderr",
     "output_type": "stream",
     "text": [
      "┌ Info: Precompiling Setup [top-level]\n",
      "└ @ Base loading.jl:1192\n",
      "WARNING: Method definition _bcs1(Any, Any) in module Broadcast at broadcast.jl:439 overwritten in module ImageFiltering at /data/scratch/jhgilles/.julia/packages/ImageFiltering/IEsgU/src/ImageFiltering.jl:28.\n",
      "WARNING: Method definition ignore(Any) in module Zygote at /data/scratch/jhgilles/.julia/packages/Zygote/8dVxG/src/compiler/interface2.jl:4 overwritten at /data/scratch/jhgilles/.julia/packages/Zygote/8dVxG/src/compiler/interface2.jl:4.\n",
      "WARNING: Method definition _pullback(ZygoteRules.AContext, Any, Any...) in module Zygote at /data/scratch/jhgilles/.julia/packages/Zygote/8dVxG/src/compiler/interface2.jl:7 overwritten at /data/scratch/jhgilles/.julia/packages/Zygote/8dVxG/src/compiler/interface2.jl:7.\n",
      "WARNING: Method definition (::Zygote.Pullback{T, T})(Any) where {T} in module Zygote at /data/scratch/jhgilles/.julia/packages/Zygote/8dVxG/src/compiler/interface2.jl:20 overwritten at /data/scratch/jhgilles/.julia/packages/Zygote/8dVxG/src/compiler/interface2.jl:20.\n"
     ]
    }
   ],
   "source": [
    "using Setup"
   ]
  },
  {
   "cell_type": "code",
   "execution_count": null,
   "metadata": {},
   "outputs": [],
   "source": []
  }
 ],
 "metadata": {
  "kernelspec": {
   "display_name": "Julia 1.1.1",
   "language": "julia",
   "name": "julia-1.1"
  },
  "language_info": {
   "file_extension": ".jl",
   "mimetype": "application/julia",
   "name": "julia",
   "version": "1.0.3"
  }
 },
 "nbformat": 4,
 "nbformat_minor": 4
}
