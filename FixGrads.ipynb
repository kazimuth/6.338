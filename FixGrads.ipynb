{
 "cells": [
  {
   "cell_type": "code",
   "execution_count": 23,
   "metadata": {},
   "outputs": [],
   "source": [
    "using Zygote\n",
    "using Flux\n",
    "using CuArrays"
   ]
  },
  {
   "cell_type": "code",
   "execution_count": 1,
   "metadata": {},
   "outputs": [
    {
     "data": {
      "text/plain": [
       "4-element Array{String,1}:\n",
       " \"@\"      \n",
       " \"@v#.#\"  \n",
       " \"@stdlib\"\n",
       " \".\"      "
      ]
     },
     "execution_count": 1,
     "metadata": {},
     "output_type": "execute_result"
    }
   ],
   "source": [
    "push!(LOAD_PATH, \".\")"
   ]
  },
  {
   "cell_type": "code",
   "execution_count": 8,
   "metadata": {},
   "outputs": [],
   "source": [
    "using Setup: *"
   ]
  },
  {
   "cell_type": "code",
   "execution_count": 11,
   "metadata": {},
   "outputs": [],
   "source": [
    "using Zygote\n",
    "using Flux\n",
    "using CuArrays"
   ]
  },
  {
   "cell_type": "code",
   "execution_count": 71,
   "metadata": {},
   "outputs": [],
   "source": [
    "Zygote.@adjoint gpu(a :: Array) = gpu(a), a̅ -> (cpu(a̅),)\n",
    "Zygote.@adjoint Base.collect(a :: CuArray) = Base.collect(a), a̅ -> (gpu(a̅),)\n",
    "Zygote.refresh()"
   ]
  },
  {
   "cell_type": "code",
   "execution_count": 72,
   "metadata": {},
   "outputs": [
    {
     "ename": "ErrorException",
     "evalue": "Can't differentiate gc_preserve_end expression",
     "output_type": "error",
     "traceback": [
      "Can't differentiate gc_preserve_end expression",
      "",
      "Stacktrace:",
      " [1] error(::String) at ./error.jl:33",
      " [2] macro expansion at ./gcutils.jl:88 [inlined]",
      " [3] _mapreducedim! at /data/scratch/jhgilles/.julia/packages/CuArrays/ZYCpV/src/mapreduce.jl:65 [inlined]",
      " [4] (::typeof(∂(Base._mapreducedim!)))(::Nothing) at /data/scratch/jhgilles/.julia/packages/Zygote/8dVxG/src/compiler/interface2.jl:0",
      " [5] _reduce at /data/scratch/jhgilles/.julia/packages/CuArrays/ZYCpV/src/mapreduce.jl:108 [inlined]",
      " [6] (::typeof(∂(CuArrays._reduce)))(::Float32) at /data/scratch/jhgilles/.julia/packages/Zygote/8dVxG/src/compiler/interface2.jl:0",
      " [7] #reduce#59 at /data/scratch/jhgilles/.julia/packages/CuArrays/ZYCpV/src/mapreduce.jl:122 [inlined]",
      " [8] (::typeof(∂(CuArrays.#reduce#59)))(::Float32) at /data/scratch/jhgilles/.julia/packages/Zygote/8dVxG/src/compiler/interface2.jl:0",
      " [9] #reduce at ./none:0 [inlined]",
      " [10] (::typeof(∂(getfield(Base, Symbol(\"#kw##reduce\"))())))(::Float32) at /data/scratch/jhgilles/.julia/packages/Zygote/8dVxG/src/compiler/interface2.jl:0",
      " [11] #43 at ./In[72]:1 [inlined]",
      " [12] (::typeof(∂(getfield(Main, Symbol(\"##43#44\"))())))(::Float32) at /data/scratch/jhgilles/.julia/packages/Zygote/8dVxG/src/compiler/interface2.jl:0",
      " [13] (::getfield(Zygote, Symbol(\"##28#29\")){typeof(∂(getfield(Main, Symbol(\"##43#44\"))()))})(::Float32) at /data/scratch/jhgilles/.julia/packages/Zygote/8dVxG/src/compiler/interface.jl:38",
      " [14] gradient(::Function, ::Array{Float64,2}) at /data/scratch/jhgilles/.julia/packages/Zygote/8dVxG/src/compiler/interface.jl:47",
      " [15] top-level scope at In[72]:1"
     ]
    }
   ],
   "source": [
    "gradient(x -> reduce(*, gpu(x), init=1.0), rand(3, 3))"
   ]
  },
  {
   "cell_type": "code",
   "execution_count": 81,
   "metadata": {},
   "outputs": [
    {
     "data": {
      "text/plain": [
       "CodeInfo(\n",
       "\u001b[90m\u001b[61G│     \u001b[1G\u001b[39m\u001b[90m \u001b[39m1 ──       goto #3 if not false\n",
       "\u001b[90m\u001b[61G│     \u001b[1G\u001b[39m\u001b[90m \u001b[39m2 ──       nothing\u001b[90m::Nothing\u001b[39m\n",
       "\u001b[90m\u001b[61G│     \u001b[1G\u001b[39m\u001b[90m \u001b[39m3 ── %3  = CuArrays.:(:)\u001b[36m::Const(Colon(), false)\u001b[39m\n",
       "\u001b[90m\u001b[61G│╻     getindex\u001b[1G\u001b[39m\u001b[90m \u001b[39m│    %4  = (Base.getfield)(#temp#, :init)\u001b[36m::Float64\u001b[39m\n",
       "\u001b[90m\u001b[61G││╻╷╷╷  iterate\u001b[1G\u001b[39m\u001b[90m \u001b[39m│    %5  = (Base.sle_int)(1, 1)\u001b[36m::Bool\u001b[39m\n",
       "\u001b[90m\u001b[61G│││┃│    iterate\u001b[1G\u001b[39m\u001b[90m \u001b[39m└───       goto #5 if not %5\n",
       "\u001b[90m\u001b[61G││││┃│    iterate\u001b[1G\u001b[39m\u001b[90m \u001b[39m4 ── %7  = (Base.sle_int)(1, 0)\u001b[36m::Bool\u001b[39m\n",
       "\u001b[90m\u001b[61G│││││ \u001b[1G\u001b[39m\u001b[90m \u001b[39m└───       goto #6\n",
       "\u001b[90m\u001b[61G│     \u001b[1G\u001b[39m\u001b[90m \u001b[39m5 ──       nothing\u001b[90m::Nothing\u001b[39m\n",
       "\u001b[90m\u001b[61G│││││ \u001b[1G\u001b[39m\u001b[90m \u001b[39m6 ┄─ %10 = φ (#4 => %7, #5 => false)\u001b[36m::Bool\u001b[39m\n",
       "\u001b[90m\u001b[61G│││││ \u001b[1G\u001b[39m\u001b[90m \u001b[39m└───       goto #8 if not %10\n",
       "\u001b[90m\u001b[61G│││││ \u001b[1G\u001b[39m\u001b[90m \u001b[39m7 ──       invoke Base.getindex(()::Tuple{}, 1::Int64)\u001b[90m::Union{}\u001b[39m\n",
       "\u001b[90m\u001b[61G│││││ \u001b[1G\u001b[39m\u001b[90m \u001b[39m└───       $(Expr(:unreachable))\u001b[90m::Union{}\u001b[39m\n",
       "\u001b[90m\u001b[61G│││││ \u001b[1G\u001b[39m\u001b[90m \u001b[39m8 ──       goto #10\n",
       "\u001b[90m\u001b[61G│││││ \u001b[1G\u001b[39m\u001b[90m \u001b[39m9 ──       $(Expr(:unreachable))\u001b[90m::Union{}\u001b[39m\n",
       "\u001b[90m\u001b[61G││││  \u001b[1G\u001b[39m\u001b[90m \u001b[39m10 ┄       goto #11\n",
       "\u001b[90m\u001b[61G││╻     iterate\u001b[1G\u001b[39m\u001b[90m \u001b[39m11 ─       goto #12\n",
       "\u001b[90m\u001b[61G││    \u001b[1G\u001b[39m\u001b[90m \u001b[39m12 ─       goto #13\n",
       "\u001b[90m\u001b[61G│     \u001b[1G\u001b[39m\u001b[90m \u001b[39m13 ─       nothing\u001b[90m::Nothing\u001b[39m\n",
       "\u001b[90m\u001b[61G│╻     #reduce#59\u001b[1G\u001b[39m\u001b[90m \u001b[39m│    %20 = invoke CuArrays._reduce(_4::Function, _5::CuArray{Float32,2,Nothing}, %4::Float64, %3::Colon)\u001b[36m::Any\u001b[39m\n",
       "\u001b[90m\u001b[61G│     \u001b[1G\u001b[39m\u001b[90m \u001b[39m└───       return %20\n",
       ") => Any"
      ]
     },
     "execution_count": 81,
     "metadata": {},
     "output_type": "execute_result"
    }
   ],
   "source": [
    "@code_typed reduce(*, gpu(rand(3, 3)), init=1.0)"
   ]
  },
  {
   "cell_type": "code",
   "execution_count": null,
   "metadata": {},
   "outputs": [],
   "source": []
  },
  {
   "cell_type": "code",
   "execution_count": 153,
   "metadata": {},
   "outputs": [],
   "source": [
    "Flux.@progress for i in 1:10\n",
    "    ()\n",
    "end"
   ]
  },
  {
   "cell_type": "code",
   "execution_count": 156,
   "metadata": {},
   "outputs": [
    {
     "name": "stderr",
     "output_type": "stream",
     "text": [
      "┌ Info: hello\n",
      "└ @ Main In[156]:1\n",
      "┌ Info: goodbye\n",
      "└ @ Main In[156]:3\n"
     ]
    }
   ],
   "source": [
    "@info \"hello\"\n",
    "sleep(5.0)\n",
    "@info \"goodbye\""
   ]
  },
  {
   "cell_type": "code",
   "execution_count": null,
   "metadata": {},
   "outputs": [
    {
     "name": "stderr",
     "output_type": "stream",
     "text": [
      "┌ Info: Beginning training loop...\n",
      "└ @ Main In[173]:1\n"
     ]
    }
   ],
   "source": [
    "@info(\"Beginning training loop...\")\n",
    "sleep(100)"
   ]
  },
  {
   "cell_type": "code",
   "execution_count": 14,
   "metadata": {},
   "outputs": [
    {
     "data": {
      "text/latex": [
       "\\begin{verbatim}\n",
       "@progress [name=\"\", threshold=0.005] for i = ..., j = ..., ...\n",
       "@progress [name=\"\", threshold=0.005] x = [... for i = ..., j = ..., ...]\n",
       "\\end{verbatim}\n",
       "Show a progress meter named \\texttt{name} for the given loop or array comprehension if possible. Update frequency is limited by \\texttt{threshold} (one update per 0.5\\% of progress by default).\n",
       "\n"
      ],
      "text/markdown": [
       "```\n",
       "@progress [name=\"\", threshold=0.005] for i = ..., j = ..., ...\n",
       "@progress [name=\"\", threshold=0.005] x = [... for i = ..., j = ..., ...]\n",
       "```\n",
       "\n",
       "Show a progress meter named `name` for the given loop or array comprehension if possible. Update frequency is limited by `threshold` (one update per 0.5% of progress by default).\n"
      ],
      "text/plain": [
       "\u001b[36m  @progress [name=\"\", threshold=0.005] for i = ..., j = ..., ...\u001b[39m\n",
       "\u001b[36m  @progress [name=\"\", threshold=0.005] x = [... for i = ..., j = ..., ...]\u001b[39m\n",
       "\n",
       "  Show a progress meter named \u001b[36mname\u001b[39m for the given loop or array comprehension\n",
       "  if possible. Update frequency is limited by \u001b[36mthreshold\u001b[39m (one update per 0.5%\n",
       "  of progress by default)."
      ]
     },
     "execution_count": 14,
     "metadata": {},
     "output_type": "execute_result"
    }
   ],
   "source": [
    "?Flux.@progress"
   ]
  },
  {
   "cell_type": "code",
   "execution_count": 16,
   "metadata": {},
   "outputs": [],
   "source": []
  },
  {
   "cell_type": "code",
   "execution_count": null,
   "metadata": {},
   "outputs": [],
   "source": []
  },
  {
   "cell_type": "code",
   "execution_count": 19,
   "metadata": {},
   "outputs": [],
   "source": []
  },
  {
   "cell_type": "code",
   "execution_count": 26,
   "metadata": {},
   "outputs": [
    {
     "name": "stderr",
     "output_type": "stream",
     "text": [
      "\u001b[32mProgress: 100%|█████████████████████████████████████████| Time: 0:00:05\u001b[39m\n"
     ]
    }
   ],
   "source": [
    "@showprogress for i in 1:100\n",
    "    sleep(0.05)\n",
    "end"
   ]
  },
  {
   "cell_type": "code",
   "execution_count": 23,
   "metadata": {},
   "outputs": [
    {
     "data": {
      "text/latex": [
       "\\begin{verbatim}\n",
       "@showprogress dt \"Computing...\" for i = 1:50\n",
       "    # computation goes here\n",
       "end\n",
       "\n",
       "@showprogress dt \"Computing...\" pmap(x->x^2, 1:50)\n",
       "\\end{verbatim}\n",
       "displays progress in performing a computation. \\texttt{dt} is the minimum interval between updates to the user. You may optionally supply a custom message to be printed that specifies the computation being performed.\n",
       "\n",
       "\\texttt{@showprogress} works for loops, comprehensions, map, and pmap.\n",
       "\n"
      ],
      "text/markdown": [
       "```\n",
       "@showprogress dt \"Computing...\" for i = 1:50\n",
       "    # computation goes here\n",
       "end\n",
       "\n",
       "@showprogress dt \"Computing...\" pmap(x->x^2, 1:50)\n",
       "```\n",
       "\n",
       "displays progress in performing a computation. `dt` is the minimum interval between updates to the user. You may optionally supply a custom message to be printed that specifies the computation being performed.\n",
       "\n",
       "`@showprogress` works for loops, comprehensions, map, and pmap.\n"
      ],
      "text/plain": [
       "\u001b[36m  @showprogress dt \"Computing...\" for i = 1:50\u001b[39m\n",
       "\u001b[36m      # computation goes here\u001b[39m\n",
       "\u001b[36m  end\u001b[39m\n",
       "\u001b[36m  \u001b[39m\n",
       "\u001b[36m  @showprogress dt \"Computing...\" pmap(x->x^2, 1:50)\u001b[39m\n",
       "\n",
       "  displays progress in performing a computation. \u001b[36mdt\u001b[39m is the minimum interval\n",
       "  between updates to the user. You may optionally supply a custom message to\n",
       "  be printed that specifies the computation being performed.\n",
       "\n",
       "  \u001b[36m@showprogress\u001b[39m works for loops, comprehensions, map, and pmap."
      ]
     },
     "execution_count": 23,
     "metadata": {},
     "output_type": "execute_result"
    }
   ],
   "source": []
  },
  {
   "cell_type": "code",
   "execution_count": null,
   "metadata": {},
   "outputs": [],
   "source": []
  },
  {
   "cell_type": "code",
   "execution_count": 62,
   "metadata": {},
   "outputs": [
    {
     "name": "stderr",
     "output_type": "stream",
     "text": [
      "┌ Warning: Performing scalar operations on GPU arrays: This is very slow, consider disallowing these operations with `allowscalar(false)`\n",
      "└ @ GPUArrays /data/scratch/jhgilles/.julia/packages/GPUArrays/1wgPO/src/indexing.jl:16\n"
     ]
    },
    {
     "data": {
      "text/plain": [
       "(Float32[1.0 1.0 1.0; 1.0 1.0 1.0; 1.0 1.0 1.0],)"
      ]
     },
     "execution_count": 62,
     "metadata": {},
     "output_type": "execute_result"
    }
   ],
   "source": [
    "gradient(x -> sum(cpu(x)), gpu(rand(3, 3)))"
   ]
  },
  {
   "cell_type": "code",
   "execution_count": 56,
   "metadata": {},
   "outputs": [
    {
     "data": {
      "text/latex": [
       "\\begin{verbatim}\n",
       "copyto!(dest, do, src, so, N)\n",
       "\\end{verbatim}\n",
       "Copy \\texttt{N} elements from collection \\texttt{src} starting at offset \\texttt{so}, to array \\texttt{dest} starting at offset \\texttt{do}. Return \\texttt{dest}.\n",
       "\n",
       "\\rule{\\textwidth}{1pt}\n",
       "\\begin{verbatim}\n",
       "copyto!(dest::AbstractArray, src) -> dest\n",
       "\\end{verbatim}\n",
       "Copy all elements from collection \\texttt{src} to array \\texttt{dest}, whose length must be greater than or equal to the length \\texttt{n} of \\texttt{src}. The first \\texttt{n} elements of \\texttt{dest} are overwritten, the other elements are left untouched.\n",
       "\n",
       "\\section{Examples}\n",
       "\\begin{verbatim}\n",
       "julia> x = [1., 0., 3., 0., 5.];\n",
       "\n",
       "julia> y = zeros(7);\n",
       "\n",
       "julia> copyto!(y, x);\n",
       "\n",
       "julia> y\n",
       "7-element Array{Float64,1}:\n",
       " 1.0\n",
       " 0.0\n",
       " 3.0\n",
       " 0.0\n",
       " 5.0\n",
       " 0.0\n",
       " 0.0\n",
       "\\end{verbatim}\n",
       "\\rule{\\textwidth}{1pt}\n",
       "\\begin{verbatim}\n",
       "copyto!(dest, Rdest::CartesianIndices, src, Rsrc::CartesianIndices) -> dest\n",
       "\\end{verbatim}\n",
       "Copy the block of \\texttt{src} in the range of \\texttt{Rsrc} to the block of \\texttt{dest} in the range of \\texttt{Rdest}. The sizes of the two regions must match.\n",
       "\n"
      ],
      "text/markdown": [
       "```\n",
       "copyto!(dest, do, src, so, N)\n",
       "```\n",
       "\n",
       "Copy `N` elements from collection `src` starting at offset `so`, to array `dest` starting at offset `do`. Return `dest`.\n",
       "\n",
       "---\n",
       "\n",
       "```\n",
       "copyto!(dest::AbstractArray, src) -> dest\n",
       "```\n",
       "\n",
       "Copy all elements from collection `src` to array `dest`, whose length must be greater than or equal to the length `n` of `src`. The first `n` elements of `dest` are overwritten, the other elements are left untouched.\n",
       "\n",
       "# Examples\n",
       "\n",
       "```jldoctest\n",
       "julia> x = [1., 0., 3., 0., 5.];\n",
       "\n",
       "julia> y = zeros(7);\n",
       "\n",
       "julia> copyto!(y, x);\n",
       "\n",
       "julia> y\n",
       "7-element Array{Float64,1}:\n",
       " 1.0\n",
       " 0.0\n",
       " 3.0\n",
       " 0.0\n",
       " 5.0\n",
       " 0.0\n",
       " 0.0\n",
       "```\n",
       "\n",
       "---\n",
       "\n",
       "```\n",
       "copyto!(dest, Rdest::CartesianIndices, src, Rsrc::CartesianIndices) -> dest\n",
       "```\n",
       "\n",
       "Copy the block of `src` in the range of `Rsrc` to the block of `dest` in the range of `Rdest`. The sizes of the two regions must match.\n"
      ],
      "text/plain": [
       "\u001b[36m  copyto!(dest, do, src, so, N)\u001b[39m\n",
       "\n",
       "  Copy \u001b[36mN\u001b[39m elements from collection \u001b[36msrc\u001b[39m starting at offset \u001b[36mso\u001b[39m, to array \u001b[36mdest\u001b[39m\n",
       "  starting at offset \u001b[36mdo\u001b[39m. Return \u001b[36mdest\u001b[39m.\n",
       "\n",
       "  ────────────────────────────────────────────────────────────────────────────\n",
       "\n",
       "\u001b[36m  copyto!(dest::AbstractArray, src) -> dest\u001b[39m\n",
       "\n",
       "  Copy all elements from collection \u001b[36msrc\u001b[39m to array \u001b[36mdest\u001b[39m, whose length must be\n",
       "  greater than or equal to the length \u001b[36mn\u001b[39m of \u001b[36msrc\u001b[39m. The first \u001b[36mn\u001b[39m elements of \u001b[36mdest\u001b[39m\n",
       "  are overwritten, the other elements are left untouched.\n",
       "\n",
       "\u001b[1m  Examples\u001b[22m\n",
       "\u001b[1m  ≡≡≡≡≡≡≡≡≡≡\u001b[22m\n",
       "\n",
       "\u001b[36m  julia> x = [1., 0., 3., 0., 5.];\u001b[39m\n",
       "\u001b[36m  \u001b[39m\n",
       "\u001b[36m  julia> y = zeros(7);\u001b[39m\n",
       "\u001b[36m  \u001b[39m\n",
       "\u001b[36m  julia> copyto!(y, x);\u001b[39m\n",
       "\u001b[36m  \u001b[39m\n",
       "\u001b[36m  julia> y\u001b[39m\n",
       "\u001b[36m  7-element Array{Float64,1}:\u001b[39m\n",
       "\u001b[36m   1.0\u001b[39m\n",
       "\u001b[36m   0.0\u001b[39m\n",
       "\u001b[36m   3.0\u001b[39m\n",
       "\u001b[36m   0.0\u001b[39m\n",
       "\u001b[36m   5.0\u001b[39m\n",
       "\u001b[36m   0.0\u001b[39m\n",
       "\u001b[36m   0.0\u001b[39m\n",
       "\n",
       "  ────────────────────────────────────────────────────────────────────────────\n",
       "\n",
       "\u001b[36m  copyto!(dest, Rdest::CartesianIndices, src, Rsrc::CartesianIndices) -> dest\u001b[39m\n",
       "\n",
       "  Copy the block of \u001b[36msrc\u001b[39m in the range of \u001b[36mRsrc\u001b[39m to the block of \u001b[36mdest\u001b[39m in the range\n",
       "  of \u001b[36mRdest\u001b[39m. The sizes of the two regions must match."
      ]
     },
     "execution_count": 56,
     "metadata": {},
     "output_type": "execute_result"
    }
   ],
   "source": []
  },
  {
   "cell_type": "code",
   "execution_count": 59,
   "metadata": {},
   "outputs": [
    {
     "data": {
      "text/latex": [
       "\\begin{verbatim}\n",
       "unsafe_copyto!(dest::Ptr{T}, src::Ptr{T}, N)\n",
       "\\end{verbatim}\n",
       "Copy \\texttt{N} elements from a source pointer to a destination, with no checking. The size of an element is determined by the type of the pointers.\n",
       "\n",
       "The \\texttt{unsafe} prefix on this function indicates that no validation is performed on the pointers \\texttt{dest} and \\texttt{src} to ensure that they are valid. Incorrect usage may corrupt or segfault your program, in the same manner as C.\n",
       "\n",
       "\\rule{\\textwidth}{1pt}\n",
       "\\begin{verbatim}\n",
       "unsafe_copyto!(dest::Array, do, src::Array, so, N)\n",
       "\\end{verbatim}\n",
       "Copy \\texttt{N} elements from a source array to a destination, starting at offset \\texttt{so} in the source and \\texttt{do} in the destination (1-indexed).\n",
       "\n",
       "The \\texttt{unsafe} prefix on this function indicates that no validation is performed to ensure that N is inbounds on either array. Incorrect usage may corrupt or segfault your program, in the same manner as C.\n",
       "\n"
      ],
      "text/markdown": [
       "```\n",
       "unsafe_copyto!(dest::Ptr{T}, src::Ptr{T}, N)\n",
       "```\n",
       "\n",
       "Copy `N` elements from a source pointer to a destination, with no checking. The size of an element is determined by the type of the pointers.\n",
       "\n",
       "The `unsafe` prefix on this function indicates that no validation is performed on the pointers `dest` and `src` to ensure that they are valid. Incorrect usage may corrupt or segfault your program, in the same manner as C.\n",
       "\n",
       "---\n",
       "\n",
       "```\n",
       "unsafe_copyto!(dest::Array, do, src::Array, so, N)\n",
       "```\n",
       "\n",
       "Copy `N` elements from a source array to a destination, starting at offset `so` in the source and `do` in the destination (1-indexed).\n",
       "\n",
       "The `unsafe` prefix on this function indicates that no validation is performed to ensure that N is inbounds on either array. Incorrect usage may corrupt or segfault your program, in the same manner as C.\n"
      ],
      "text/plain": [
       "\u001b[36m  unsafe_copyto!(dest::Ptr{T}, src::Ptr{T}, N)\u001b[39m\n",
       "\n",
       "  Copy \u001b[36mN\u001b[39m elements from a source pointer to a destination, with no checking.\n",
       "  The size of an element is determined by the type of the pointers.\n",
       "\n",
       "  The \u001b[36munsafe\u001b[39m prefix on this function indicates that no validation is performed\n",
       "  on the pointers \u001b[36mdest\u001b[39m and \u001b[36msrc\u001b[39m to ensure that they are valid. Incorrect usage\n",
       "  may corrupt or segfault your program, in the same manner as C.\n",
       "\n",
       "  ────────────────────────────────────────────────────────────────────────────\n",
       "\n",
       "\u001b[36m  unsafe_copyto!(dest::Array, do, src::Array, so, N)\u001b[39m\n",
       "\n",
       "  Copy \u001b[36mN\u001b[39m elements from a source array to a destination, starting at offset \u001b[36mso\u001b[39m\n",
       "  in the source and \u001b[36mdo\u001b[39m in the destination (1-indexed).\n",
       "\n",
       "  The \u001b[36munsafe\u001b[39m prefix on this function indicates that no validation is performed\n",
       "  to ensure that N is inbounds on either array. Incorrect usage may corrupt or\n",
       "  segfault your program, in the same manner as C."
      ]
     },
     "execution_count": 59,
     "metadata": {},
     "output_type": "execute_result"
    }
   ],
   "source": [
    "?CUDAdrv.unsafe_copyto!"
   ]
  },
  {
   "cell_type": "code",
   "execution_count": 64,
   "metadata": {},
   "outputs": [],
   "source": [
    "@show"
   ]
  },
  {
   "cell_type": "code",
   "execution_count": 70,
   "metadata": {},
   "outputs": [
    {
     "data": {
      "text/latex": [
       "\\begin{verbatim}\n",
       "collect(element_type, collection)\n",
       "\\end{verbatim}\n",
       "Return an \\texttt{Array} with the given element type of all items in a collection or iterable. The result has the same shape and number of dimensions as \\texttt{collection}.\n",
       "\n",
       "\\section{Examples}\n",
       "\\begin{verbatim}\n",
       "julia> collect(Float64, 1:2:5)\n",
       "3-element Array{Float64,1}:\n",
       " 1.0\n",
       " 3.0\n",
       " 5.0\n",
       "\\end{verbatim}\n",
       "\\rule{\\textwidth}{1pt}\n",
       "\\begin{verbatim}\n",
       "collect(collection)\n",
       "\\end{verbatim}\n",
       "Return an \\texttt{Array} of all items in a collection or iterator. For dictionaries, returns \\texttt{Pair\\{KeyType, ValType\\}}. If the argument is array-like or is an iterator with the \\href{@ref IteratorSize}{\\texttt{HasShape}} trait, the result will have the same shape and number of dimensions as the argument.\n",
       "\n",
       "\\section{Examples}\n",
       "\\begin{verbatim}\n",
       "julia> collect(1:2:13)\n",
       "7-element Array{Int64,1}:\n",
       "  1\n",
       "  3\n",
       "  5\n",
       "  7\n",
       "  9\n",
       " 11\n",
       " 13\n",
       "\\end{verbatim}\n"
      ],
      "text/markdown": [
       "```\n",
       "collect(element_type, collection)\n",
       "```\n",
       "\n",
       "Return an `Array` with the given element type of all items in a collection or iterable. The result has the same shape and number of dimensions as `collection`.\n",
       "\n",
       "# Examples\n",
       "\n",
       "```jldoctest\n",
       "julia> collect(Float64, 1:2:5)\n",
       "3-element Array{Float64,1}:\n",
       " 1.0\n",
       " 3.0\n",
       " 5.0\n",
       "```\n",
       "\n",
       "---\n",
       "\n",
       "```\n",
       "collect(collection)\n",
       "```\n",
       "\n",
       "Return an `Array` of all items in a collection or iterator. For dictionaries, returns `Pair{KeyType, ValType}`. If the argument is array-like or is an iterator with the [`HasShape`](@ref IteratorSize) trait, the result will have the same shape and number of dimensions as the argument.\n",
       "\n",
       "# Examples\n",
       "\n",
       "```jldoctest\n",
       "julia> collect(1:2:13)\n",
       "7-element Array{Int64,1}:\n",
       "  1\n",
       "  3\n",
       "  5\n",
       "  7\n",
       "  9\n",
       " 11\n",
       " 13\n",
       "```\n"
      ],
      "text/plain": [
       "\u001b[36m  collect(element_type, collection)\u001b[39m\n",
       "\n",
       "  Return an \u001b[36mArray\u001b[39m with the given element type of all items in a collection or\n",
       "  iterable. The result has the same shape and number of dimensions as\n",
       "  \u001b[36mcollection\u001b[39m.\n",
       "\n",
       "\u001b[1m  Examples\u001b[22m\n",
       "\u001b[1m  ≡≡≡≡≡≡≡≡≡≡\u001b[22m\n",
       "\n",
       "\u001b[36m  julia> collect(Float64, 1:2:5)\u001b[39m\n",
       "\u001b[36m  3-element Array{Float64,1}:\u001b[39m\n",
       "\u001b[36m   1.0\u001b[39m\n",
       "\u001b[36m   3.0\u001b[39m\n",
       "\u001b[36m   5.0\u001b[39m\n",
       "\n",
       "  ────────────────────────────────────────────────────────────────────────────\n",
       "\n",
       "\u001b[36m  collect(collection)\u001b[39m\n",
       "\n",
       "  Return an \u001b[36mArray\u001b[39m of all items in a collection or iterator. For dictionaries,\n",
       "  returns \u001b[36mPair{KeyType, ValType}\u001b[39m. If the argument is array-like or is an\n",
       "  iterator with the \u001b[36mHasShape\u001b[39m trait, the result will have the same shape and\n",
       "  number of dimensions as the argument.\n",
       "\n",
       "\u001b[1m  Examples\u001b[22m\n",
       "\u001b[1m  ≡≡≡≡≡≡≡≡≡≡\u001b[22m\n",
       "\n",
       "\u001b[36m  julia> collect(1:2:13)\u001b[39m\n",
       "\u001b[36m  7-element Array{Int64,1}:\u001b[39m\n",
       "\u001b[36m    1\u001b[39m\n",
       "\u001b[36m    3\u001b[39m\n",
       "\u001b[36m    5\u001b[39m\n",
       "\u001b[36m    7\u001b[39m\n",
       "\u001b[36m    9\u001b[39m\n",
       "\u001b[36m   11\u001b[39m\n",
       "\u001b[36m   13\u001b[39m"
      ]
     },
     "execution_count": 70,
     "metadata": {},
     "output_type": "execute_result"
    }
   ],
   "source": [
    "?Base.collect"
   ]
  },
  {
   "cell_type": "code",
   "execution_count": null,
   "metadata": {},
   "outputs": [],
   "source": [
    "]add ProgressMeter"
   ]
  },
  {
   "cell_type": "code",
   "execution_count": null,
   "metadata": {},
   "outputs": [],
   "source": []
  }
 ],
 "metadata": {
  "kernelspec": {
   "display_name": "Julia 1.1.1",
   "language": "julia",
   "name": "julia-1.1"
  },
  "language_info": {
   "file_extension": ".jl",
   "mimetype": "application/julia",
   "name": "julia",
   "version": "1.0.3"
  }
 },
 "nbformat": 4,
 "nbformat_minor": 4
}
